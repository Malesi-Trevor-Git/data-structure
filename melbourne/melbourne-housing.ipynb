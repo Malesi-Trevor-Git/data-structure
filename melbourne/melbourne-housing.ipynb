{
 "cells": [
  {
   "cell_type": "markdown",
   "source": [
    "Import the libraries and data"
   ],
   "metadata": {
    "collapsed": false
   }
  },
  {
   "cell_type": "code",
   "execution_count": 13,
   "metadata": {},
   "outputs": [],
   "source": [
    "import pandas as pd\n",
    "from sklearn.tree import  DecisionTreeRegressor\n",
    "from sklearn.metrics import  mean_absolute_error\n",
    "from sklearn.model_selection import  train_test_split\n",
    "data=pd.read_csv('melbourne.csv')"
   ]
  },
  {
   "cell_type": "code",
   "execution_count": 3,
   "outputs": [],
   "source": [
    "#drop the empty columns\n",
    "data=data.dropna(axis=0)"
   ],
   "metadata": {
    "collapsed": false,
    "pycharm": {
     "name": "#%%\n"
    }
   }
  },
  {
   "cell_type": "code",
   "execution_count": 4,
   "outputs": [],
   "source": [
    "#Selection the prediction target\n",
    "y=data.Price\n",
    "features=['Rooms','Bathroom','Landsize','Lattitude','Longtitude']\n",
    "X=data[features]"
   ],
   "metadata": {
    "collapsed": false,
    "pycharm": {
     "name": "#%%\n"
    }
   }
  },
  {
   "cell_type": "code",
   "execution_count": 8,
   "outputs": [
    {
     "data": {
      "text/plain": "DecisionTreeRegressor(random_state=1)"
     },
     "execution_count": 8,
     "metadata": {},
     "output_type": "execute_result"
    }
   ],
   "source": [
    "#create the melbourne model\n",
    "melbourne_model=DecisionTreeRegressor(random_state=1)\n",
    "melbourne_model.fit(X,y)"
   ],
   "metadata": {
    "collapsed": false,
    "pycharm": {
     "name": "#%%\n"
    }
   }
  },
  {
   "cell_type": "code",
   "execution_count": 9,
   "outputs": [
    {
     "name": "stdout",
     "output_type": "stream",
     "text": [
      "Making prediction for 5 houses\n",
      "    Rooms  Bathroom  Landsize  Lattitude  Longtitude\n",
      "2       2       1.0     156.0   -37.8079    144.9934\n",
      "4       3       2.0     134.0   -37.8093    144.9944\n",
      "6       4       1.0     120.0   -37.8072    144.9941\n",
      "11      3       2.0     245.0   -37.8024    144.9993\n",
      "14      2       1.0     256.0   -37.8060    144.9954\n",
      "The predictions are:\n",
      "[1035000. 1465000. 1600000. 1876000. 1636000.]\n"
     ]
    }
   ],
   "source": [
    "#Making the predictions\n",
    "print(\"Making prediction for 5 houses\")\n",
    "print(X.head())\n",
    "print(\"The predictions are:\")\n",
    "print(melbourne_model.predict(X.head()))"
   ],
   "metadata": {
    "collapsed": false,
    "pycharm": {
     "name": "#%%\n"
    }
   }
  },
  {
   "cell_type": "markdown",
   "source": [
    "Model validation"
   ],
   "metadata": {
    "collapsed": false
   }
  },
  {
   "cell_type": "code",
   "execution_count": 12,
   "outputs": [
    {
     "data": {
      "text/plain": "897.2844229398746"
     },
     "execution_count": 12,
     "metadata": {},
     "output_type": "execute_result"
    }
   ],
   "source": [
    "predicted_home_prices=melbourne_model.predict(X)\n",
    "mean_absolute_error(y,predicted_home_prices)"
   ],
   "metadata": {
    "collapsed": false,
    "pycharm": {
     "name": "#%%\n"
    }
   }
  },
  {
   "cell_type": "code",
   "execution_count": 15,
   "outputs": [
    {
     "name": "stdout",
     "output_type": "stream",
     "text": [
      "255227.74707470747\n"
     ]
    }
   ],
   "source": [
    "train_X,val_X,train_y,val_y=train_test_split(X,y,random_state=0)\n",
    "melbourne_model=DecisionTreeRegressor()\n",
    "melbourne_model.fit(train_X,train_y)\n",
    "val_predictions=melbourne_model.predict(val_X)\n",
    "print(mean_absolute_error(val_y,val_predictions))"
   ],
   "metadata": {
    "collapsed": false,
    "pycharm": {
     "name": "#%%\n"
    }
   }
  }
 ],
 "metadata": {
  "interpreter": {
   "hash": "551e2da21425d4e4b159459dc07a118b72b174e8d9f00472d81ce261bf765924"
  },
  "kernelspec": {
   "display_name": "Python 3.9.7 ('base')",
   "language": "python",
   "name": "python3"
  },
  "language_info": {
   "codemirror_mode": {
    "name": "ipython",
    "version": 3
   },
   "file_extension": ".py",
   "mimetype": "text/x-python",
   "name": "python",
   "nbconvert_exporter": "python",
   "pygments_lexer": "ipython3",
   "version": "3.9.7"
  },
  "orig_nbformat": 4
 },
 "nbformat": 4,
 "nbformat_minor": 2
}